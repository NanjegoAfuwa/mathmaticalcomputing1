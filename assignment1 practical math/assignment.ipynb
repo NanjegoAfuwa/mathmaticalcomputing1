{
 "cells": [
  {
   "cell_type": "code",
   "execution_count": 1,
   "id": "1a89a26a-bf79-44d6-8cf3-1ecb4a64bccb",
   "metadata": {},
   "outputs": [],
   "source": [
    "import numpy as np"
   ]
  },
  {
   "cell_type": "code",
   "execution_count": 2,
   "id": "0f8e6acf-cf7c-470c-8655-2aca1dd71b5b",
   "metadata": {},
   "outputs": [],
   "source": [
    "import matplotlib.pyplot as plt"
   ]
  },
  {
   "cell_type": "markdown",
   "id": "cadf3d43-f942-400c-8fb3-29c9c3c0d0c1",
   "metadata": {},
   "source": [
    "# 1)"
   ]
  },
  {
   "cell_type": "code",
   "execution_count": 3,
   "id": "57511361-c8e3-4602-8af6-69dce2848fd3",
   "metadata": {},
   "outputs": [
    {
     "name": "stdout",
     "output_type": "stream",
     "text": [
      "[[ 2  2  3]\n",
      " [-2  7  4]\n",
      " [-3 -3 -4]\n",
      " [-8  2  3]]\n"
     ]
    }
   ],
   "source": [
    "matrix_A = np.array([[2,2,3],[-2,7,4], [-3,-3,-4], [-8,2,3]])\n",
    "print (matrix_A)"
   ]
  },
  {
   "cell_type": "markdown",
   "id": "8826eba2-8c03-4f18-9cc1-b94326a8ce40",
   "metadata": {},
   "source": [
    "# i)"
   ]
  },
  {
   "cell_type": "code",
   "execution_count": 4,
   "id": "77410c15-f00d-4055-a852-127082133b9c",
   "metadata": {},
   "outputs": [
    {
     "data": {
      "text/plain": [
       "array([[ 2,  2,  3,  1],\n",
       "       [-2,  7,  4,  2],\n",
       "       [-3, -3, -4,  3],\n",
       "       [-8,  2,  3,  4]])"
      ]
     },
     "execution_count": 4,
     "metadata": {},
     "output_type": "execute_result"
    }
   ],
   "source": [
    "new_column = np.array([[1],[2],[3],[4]])\n",
    "new_matrix= np.hstack((matrix_A,new_column))     #hstack adds anew column\n",
    "new_matrix                                 #vstack adds a new raw\n"
   ]
  },
  {
   "cell_type": "code",
   "execution_count": 5,
   "id": "ab0881de-9d01-4aa1-87cf-a3e3e7407a6b",
   "metadata": {},
   "outputs": [
    {
     "name": "stdout",
     "output_type": "stream",
     "text": [
      "-542.9999999999999\n"
     ]
    }
   ],
   "source": [
    "determinant = np.linalg.det(new_matrix)\n",
    "print(determinant)"
   ]
  },
  {
   "cell_type": "markdown",
   "id": "198f7246-506a-4814-9e19-61c3ff420058",
   "metadata": {},
   "source": [
    "# ii)"
   ]
  },
  {
   "cell_type": "code",
   "execution_count": 6,
   "id": "089b88be-2117-4fab-976c-156e33213372",
   "metadata": {},
   "outputs": [
    {
     "name": "stdout",
     "output_type": "stream",
     "text": [
      "[[ 2  2  3]\n",
      " [-2  7  4]\n",
      " [-3 -3 -4]]\n"
     ]
    }
   ],
   "source": [
    "matrix_A = np.array([[2,2,3],[-2,7,4], [-3,-3,-4], [-8,2,3]])\n",
    "reduced_matrix = np.delete(matrix_A,3,axis=0)   #axis=0 is the row to be deleted\n",
    "print(reduced_matrix)                             #axis=1 is the colum to be deleted"
   ]
  },
  {
   "cell_type": "markdown",
   "id": "16f6a137-17be-44f6-9509-c42470900936",
   "metadata": {},
   "source": [
    " # III)"
   ]
  },
  {
   "cell_type": "code",
   "execution_count": 7,
   "id": "6411e0c5-8be2-4564-b42c-a99975e8dd38",
   "metadata": {},
   "outputs": [
    {
     "name": "stdout",
     "output_type": "stream",
     "text": [
      "[[ 2 -2 -3 -8]\n",
      " [ 2  7 -3  2]\n",
      " [ 3  4 -4  3]]\n"
     ]
    }
   ],
   "source": [
    "AT= np.transpose(matrix_A)\n",
    "print(AT)"
   ]
  },
  {
   "cell_type": "code",
   "execution_count": 8,
   "id": "84fc414f-2f21-4c2b-90e9-b4f0ae254145",
   "metadata": {},
   "outputs": [
    {
     "name": "stdout",
     "output_type": "stream",
     "text": [
      "[[ 17  22 -24  -3]\n",
      " [ 22  69 -31  42]\n",
      " [-24 -31  34   6]\n",
      " [ -3  42   6  77]]\n"
     ]
    }
   ],
   "source": [
    "AAT =np.dot(matrix_A,AT)\n",
    "print(AAT)"
   ]
  },
  {
   "cell_type": "code",
   "execution_count": 9,
   "id": "4f65eb57-f5e8-4dad-8a5f-8efeb29de858",
   "metadata": {},
   "outputs": [
    {
     "name": "stdout",
     "output_type": "stream",
     "text": [
      "3.3772984409097314e-12\n"
     ]
    }
   ],
   "source": [
    "determinant = np.linalg.det(AAT) #its inverteble\n",
    "print(determinant)               #if its equal to zero then its not invertable"
   ]
  },
  {
   "cell_type": "markdown",
   "id": "75cb798d-9089-4f48-8fc9-57827aa0fbf6",
   "metadata": {},
   "source": [
    "# iv)"
   ]
  },
  {
   "cell_type": "code",
   "execution_count": 10,
   "id": "ff4bc7ad-ae9a-484f-8234-2bbdfec2e157",
   "metadata": {},
   "outputs": [
    {
     "name": "stdout",
     "output_type": "stream",
     "text": [
      "[[ 2 -2 -3 -8]\n",
      " [ 2  7 -3  2]\n",
      " [ 3  4 -4  3]]\n"
     ]
    }
   ],
   "source": [
    "AT= np.transpose(matrix_A)\n",
    "print(AT)"
   ]
  },
  {
   "cell_type": "code",
   "execution_count": 11,
   "id": "143f95e4-4c66-4473-be75-2d2b23861556",
   "metadata": {},
   "outputs": [
    {
     "data": {
      "text/plain": [
       "array([[ 81, -17, -14],\n",
       "       [-17,  66,  52],\n",
       "       [-14,  52,  50]])"
      ]
     },
     "execution_count": 11,
     "metadata": {},
     "output_type": "execute_result"
    }
   ],
   "source": [
    "ATA = np.dot(AT,matrix_A)\n",
    "ATA"
   ]
  },
  {
   "cell_type": "code",
   "execution_count": 12,
   "id": "a21650ef-6ea9-4a7e-925c-10dda5c788de",
   "metadata": {},
   "outputs": [
    {
     "data": {
      "text/plain": [
       "np.float64(45642.00000000001)"
      ]
     },
     "execution_count": 12,
     "metadata": {},
     "output_type": "execute_result"
    }
   ],
   "source": [
    "determinant = np.linalg.det(ATA)\n",
    "determinant                             #Its invertable because its determinant is not egual to zero"
   ]
  },
  {
   "cell_type": "markdown",
   "id": "8dc2eb0d-a221-4025-900e-cdd0fe057dd8",
   "metadata": {},
   "source": [
    "\n",
    "# 2 )"
   ]
  },
  {
   "cell_type": "markdown",
   "id": "4f740ee6-6079-4fb4-a6ce-5e5ccbec0f13",
   "metadata": {},
   "source": [
    "# i)"
   ]
  },
  {
   "cell_type": "code",
   "execution_count": 13,
   "id": "058728b5-0cef-4c5e-b41d-b3587d7af513",
   "metadata": {},
   "outputs": [],
   "source": [
    "x = ([[25,2],[5,26],[3,7]])"
   ]
  },
  {
   "cell_type": "code",
   "execution_count": 14,
   "id": "c9c936b5-a4c6-4992-b723-d1b12d9d876a",
   "metadata": {},
   "outputs": [
    {
     "data": {
      "text/plain": [
       "array([[25,  2],\n",
       "       [ 5, 26],\n",
       "       [ 3,  7]])"
      ]
     },
     "execution_count": 14,
     "metadata": {},
     "output_type": "execute_result"
    }
   ],
   "source": [
    "x = np.array([[25,2],[5,26],[3,7]])\n",
    "x"
   ]
  },
  {
   "cell_type": "markdown",
   "id": "82a004e7-61e6-4d8d-9ef9-3cc82d3f2516",
   "metadata": {},
   "source": [
    "# ii )"
   ]
  },
  {
   "cell_type": "code",
   "execution_count": 15,
   "id": "5327fd1a-2610-4fcc-93f8-dc487b5b5460",
   "metadata": {},
   "outputs": [
    {
     "data": {
      "text/plain": [
       "(3, 2)"
      ]
     },
     "execution_count": 15,
     "metadata": {},
     "output_type": "execute_result"
    }
   ],
   "source": [
    "x = x.shape\n",
    "x"
   ]
  },
  {
   "cell_type": "markdown",
   "id": "01ac7200-7991-4506-ad62-93f76708624e",
   "metadata": {},
   "source": [
    "# iii)"
   ]
  },
  {
   "cell_type": "code",
   "execution_count": 16,
   "id": "3af480d4-ab8e-45e4-8c8e-66e116d6b5a6",
   "metadata": {},
   "outputs": [],
   "source": [
    "A= ([[3,4],[5,6],[7,8]])"
   ]
  },
  {
   "cell_type": "code",
   "execution_count": 17,
   "id": "8eb25222-e03c-4eca-aa4c-915d72be6042",
   "metadata": {},
   "outputs": [],
   "source": [
    "x = ([[25,2],[5,26],[3,7]])"
   ]
  },
  {
   "cell_type": "code",
   "execution_count": 18,
   "id": "74da1555-1797-4755-a4b9-878174428904",
   "metadata": {},
   "outputs": [
    {
     "data": {
      "text/plain": [
       "array([[25,  5,  3],\n",
       "       [ 2, 26,  7]])"
      ]
     },
     "execution_count": 18,
     "metadata": {},
     "output_type": "execute_result"
    }
   ],
   "source": [
    "xT = np.transpose(x)       #transposing matrix A so that its equal to matrix X for better multiplication\n",
    "xT"
   ]
  },
  {
   "cell_type": "code",
   "execution_count": 19,
   "id": "415dc580-c413-4950-aabc-d7274d08003f",
   "metadata": {},
   "outputs": [
    {
     "data": {
      "text/plain": [
       "array([[121, 154],\n",
       "       [185, 220]])"
      ]
     },
     "execution_count": 19,
     "metadata": {},
     "output_type": "execute_result"
    }
   ],
   "source": [
    "multiplied_matrix = xT.dot(A)    #the multiplied matrix  \n",
    "multiplied_matrix"
   ]
  },
  {
   "cell_type": "code",
   "execution_count": null,
   "id": "c8fddd11-fedc-4cbd-80da-b5d7f86ac5eb",
   "metadata": {},
   "outputs": [],
   "source": []
  },
  {
   "cell_type": "markdown",
   "id": "b6848a61-90e7-45cf-8175-177cdc5e15e9",
   "metadata": {},
   "source": [
    "# iv)"
   ]
  },
  {
   "cell_type": "code",
   "execution_count": 20,
   "id": "621d2f0e-2bf9-4fd8-9b88-d4a866db5f84",
   "metadata": {},
   "outputs": [
    {
     "data": {
      "text/plain": [
       "array([[-0.11764706,  0.08235294],\n",
       "       [ 0.09893048, -0.06470588]])"
      ]
     },
     "execution_count": 20,
     "metadata": {},
     "output_type": "execute_result"
    }
   ],
   "source": [
    "inverse = np.linalg.inv(multiplied_matrix)\n",
    "inverse"
   ]
  },
  {
   "cell_type": "code",
   "execution_count": null,
   "id": "e8ba77a2-096c-4472-9465-6e57a40eb58a",
   "metadata": {},
   "outputs": [],
   "source": []
  },
  {
   "cell_type": "markdown",
   "id": "a08950f4-45fe-42b1-88bd-7778ab61a4ad",
   "metadata": {},
   "source": [
    "# 3)"
   ]
  },
  {
   "cell_type": "markdown",
   "id": "3c7f0a3b-d9d3-4bf1-bcfd-aada7e6cd07b",
   "metadata": {},
   "source": [
    "# i)"
   ]
  },
  {
   "cell_type": "code",
   "execution_count": 21,
   "id": "ee055d83-2067-4997-8c41-780ff5e7e227",
   "metadata": {},
   "outputs": [
    {
     "data": {
      "text/plain": [
       "array([25,  2,  5])"
      ]
     },
     "execution_count": 21,
     "metadata": {},
     "output_type": "execute_result"
    }
   ],
   "source": [
    "x = np.array([25,2,5])\n",
    "x"
   ]
  },
  {
   "cell_type": "markdown",
   "id": "981b778f-0a77-4d7e-a8ba-bdd3693802ac",
   "metadata": {},
   "source": [
    "# ii)"
   ]
  },
  {
   "cell_type": "code",
   "execution_count": 22,
   "id": "7e3d6f1c-6428-496e-a8b9-de36e86165d6",
   "metadata": {},
   "outputs": [
    {
     "data": {
      "text/plain": [
       "(3,)"
      ]
     },
     "execution_count": 22,
     "metadata": {},
     "output_type": "execute_result"
    }
   ],
   "source": [
    "shape = x.shape\n",
    "shape"
   ]
  },
  {
   "cell_type": "markdown",
   "id": "46d469b9-3b7d-4db3-bcb4-924cf0757e54",
   "metadata": {},
   "source": [
    "# iv)"
   ]
  },
  {
   "cell_type": "code",
   "execution_count": 23,
   "id": "26b014c8-afe7-421a-aef9-9b5227bb9e06",
   "metadata": {},
   "outputs": [
    {
     "data": {
      "text/plain": [
       "array([25,  2,  5])"
      ]
     },
     "execution_count": 23,
     "metadata": {},
     "output_type": "execute_result"
    }
   ],
   "source": [
    "transpose_x = x.T\n",
    "transpose_x"
   ]
  },
  {
   "cell_type": "code",
   "execution_count": 24,
   "id": "f0904dba-b698-4a81-bcf9-747cacd5c847",
   "metadata": {},
   "outputs": [
    {
     "data": {
      "text/plain": [
       "array([25,  2,  5])"
      ]
     },
     "execution_count": 24,
     "metadata": {},
     "output_type": "execute_result"
    }
   ],
   "source": [
    "transpose_x = np.transpose(x)    # alternatively\n",
    "transpose_x"
   ]
  },
  {
   "cell_type": "markdown",
   "id": "2b4459e9-6b45-4fa0-9516-e7492bb2274b",
   "metadata": {},
   "source": [
    "# v)"
   ]
  },
  {
   "cell_type": "code",
   "execution_count": 25,
   "id": "1f12fc84-7230-4009-80de-0a6587a8f6e3",
   "metadata": {},
   "outputs": [
    {
     "data": {
      "text/plain": [
       "np.float64(25.573423705088842)"
      ]
     },
     "execution_count": 25,
     "metadata": {},
     "output_type": "execute_result"
    }
   ],
   "source": [
    "norm_2 = np.linalg.norm(x)\n",
    "norm_2"
   ]
  },
  {
   "cell_type": "code",
   "execution_count": null,
   "id": "01f226b4-0f0a-4f34-8db7-b2fab759b4ff",
   "metadata": {},
   "outputs": [],
   "source": []
  },
  {
   "cell_type": "code",
   "execution_count": null,
   "id": "63c66a6c-ac0b-4940-a4d9-d3a83adaa150",
   "metadata": {},
   "outputs": [],
   "source": []
  }
 ],
 "metadata": {
  "kernelspec": {
   "display_name": "Python 3 (ipykernel)",
   "language": "python",
   "name": "python3"
  },
  "language_info": {
   "codemirror_mode": {
    "name": "ipython",
    "version": 3
   },
   "file_extension": ".py",
   "mimetype": "text/x-python",
   "name": "python",
   "nbconvert_exporter": "python",
   "pygments_lexer": "ipython3",
   "version": "3.12.6"
  }
 },
 "nbformat": 4,
 "nbformat_minor": 5
}
